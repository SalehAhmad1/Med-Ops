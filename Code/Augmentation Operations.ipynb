{
 "cells": [
  {
   "cell_type": "markdown",
   "metadata": {},
   "source": [
    "# Saleh Ahmad\n",
    "# salehahmad2106@gmail.com"
   ]
  },
  {
   "cell_type": "code",
   "execution_count": 37,
   "metadata": {},
   "outputs": [],
   "source": [
    "import numpy as np\n",
    "import pandas as pd\n",
    "import skimage\n",
    "import cv2\n",
    "import matplotlib.pyplot as plt\n",
    "import os\n",
    "import openslide\n",
    "import shutil"
   ]
  },
  {
   "cell_type": "code",
   "execution_count": 38,
   "metadata": {},
   "outputs": [
    {
     "name": "stdout",
     "output_type": "stream",
     "text": [
      "Image 0 : TCGA-AA-A01F-01Z-00-DX1.A09E4A5B-1DD2-472C-B387-91803FEE514A.svs\n",
      "Augmentation Rotate ...\n",
      "Augmentation Flip ...\n",
      "Augmentation Scale ...\n",
      "Augmentation Crop ...\n",
      "Augmentation Brightness_Adjustment ...\n",
      "Image 1 : TCGA-AA-3554-01Z-00-DX1.53ea377e-6671-47bb-a2b6-b136d9686144.svs\n",
      "Augmentation Rotate ...\n",
      "Augmentation Flip ...\n",
      "Augmentation Scale ...\n",
      "Augmentation Crop ...\n",
      "Augmentation Brightness_Adjustment ...\n",
      "Image 2 : TCGA-A6-A5ZU-01Z-00-DX2.221EC8DE-4029-4ED2-8D84-95647BD39E03.svs\n",
      "Augmentation Rotate ...\n",
      "Augmentation Flip ...\n",
      "Augmentation Scale ...\n",
      "Augmentation Crop ...\n",
      "Augmentation Brightness_Adjustment ...\n",
      "Image 3 : TCGA-AZ-5403-01Z-00-DX1.1c557fea-6627-48e9-abb9-79da22c40cef.svs\n",
      "Augmentation Rotate ...\n",
      "Augmentation Flip ...\n",
      "Augmentation Scale ...\n",
      "Augmentation Crop ...\n",
      "Augmentation Brightness_Adjustment ...\n"
     ]
    }
   ],
   "source": [
    "class Image_Augmentation:\n",
    "    '''\n",
    "    Class to augment images. The augmentations incldue rotation,flip,crop,scale and brightness adjustment\n",
    "    '''\n",
    "    def __init__(self,data_path):\n",
    "        '''\n",
    "        Constructor\n",
    "\n",
    "        Parameters\n",
    "        ----------\n",
    "        data_path : string\n",
    "            Path to the directory containing the images to be augmented.\n",
    "        \n",
    "        Returns\n",
    "        -------\n",
    "        None.\n",
    "        '''\n",
    "        self.images_path = data_path\n",
    "        self.augmentations_path = '../Data/Augmented/'\n",
    "        self.images_Names = os.listdir(data_path)\n",
    "        self.__Clear_Augmentations_dir() #Clear the augmentations directory\n",
    "        self.images = self.__Generate_Augmentations() #Generate augmentations\n",
    "\n",
    "    def __Clear_Augmentations_dir(self):\n",
    "        '''\n",
    "        Clear the augmentations directory\n",
    "        '''\n",
    "        shutil.rmtree(self.augmentations_path, ignore_errors=True)\n",
    "        os.makedirs(self.augmentations_path,exist_ok=True)\n",
    "\n",
    "    def __Generate_Augmentations(self):\n",
    "        '''\n",
    "        Function to perform augmentation\n",
    "        '''\n",
    "        for idxImg, img in enumerate(self.images_Names): #Iterate over images\n",
    "            print('Image',idxImg,':',img)\n",
    "            slide = openslide.OpenSlide(os.path.join(self.images_path,img))\n",
    "            data = slide.read_region((0, 0), slide.level_count-1, slide.level_dimensions[slide.level_count-1])\n",
    "            data = np.array(data)\n",
    "\n",
    "            os.makedirs(self.augmentations_path+'/'+img[:-4],exist_ok=True)\n",
    "            for augmentation in range(5): #Iterate over augmentation types\n",
    "                Augmentations = ['Rotate','Flip','Scale','Crop','Brightness_Adjustment']\n",
    "                print('Augmentation',Augmentations[augmentation],'...')\n",
    "                args = [False,False,False,False,False]\n",
    "                args[augmentation] = True\n",
    "\n",
    "                augmentedImg = self.__Augment(data,*args)\n",
    "\n",
    "                FileName = img[:-4]+'_'+Augmentations[augmentation]+'.png'\n",
    "                plt.imsave(self.augmentations_path+img[:-4]+'/'+FileName,augmentedImg)\n",
    "               \n",
    "\n",
    "    def __Augment(self,img,rotate,flip,scale,crop,brightness_adjustment):\n",
    "        if rotate:\n",
    "            angle = np.pi / 4\n",
    "            img = skimage.transform.rotate(img, angle, preserve_range=True).astype(np.uint8) # rotate by angle: np.pi / 4\n",
    "            img = np.ascontiguousarray(img)\n",
    "        elif flip:\n",
    "            img = np.flip(img, axis=1) #flip along y-axis\n",
    "            img = np.ascontiguousarray(img)\n",
    "        elif scale:\n",
    "            dimensions = np.array(img.shape[:2]) // 2\n",
    "            img = cv2.resize(img, dimensions) #scale by half\n",
    "            img = np.ascontiguousarray(img)\n",
    "        elif crop:\n",
    "            dimensions = np.array(img.shape[:2]) // 2\n",
    "            img = img[0:dimensions[0], 0:dimensions[1]] #crop by given size\n",
    "            img = np.ascontiguousarray(img)\n",
    "        elif brightness_adjustment: \n",
    "            img = skimage.exposure.adjust_gamma(img, gamma=0.5, gain=0.5) #adjust brightness\n",
    "            img = np.ascontiguousarray(img)\n",
    "        return img\n",
    "\n",
    "    def Display_Slides(self,original,notOriginal):\n",
    "        '''\n",
    "        Function to show the original and notOriginal patches\n",
    "        '''\n",
    "        fig, axes = plt.subplots(1, 2, figsize=(10, 10))\n",
    "        axes[0].imshow(original)\n",
    "        axes[1].imshow(notOriginal)\n",
    "        plt.axis('off')\n",
    "        plt.show()\n",
    "    \n",
    "\n",
    "obj = Image_Augmentation('../Data/Original/')"
   ]
  },
  {
   "cell_type": "code",
   "execution_count": null,
   "metadata": {},
   "outputs": [],
   "source": []
  }
 ],
 "metadata": {
  "kernelspec": {
   "display_name": "Python 3.8.8 ('base')",
   "language": "python",
   "name": "python3"
  },
  "language_info": {
   "codemirror_mode": {
    "name": "ipython",
    "version": 3
   },
   "file_extension": ".py",
   "mimetype": "text/x-python",
   "name": "python",
   "nbconvert_exporter": "python",
   "pygments_lexer": "ipython3",
   "version": "3.8.8"
  },
  "orig_nbformat": 4,
  "vscode": {
   "interpreter": {
    "hash": "90857eea415e892742aa58aac1803481ac02e4a0a6170a8a09c25267b7e414aa"
   }
  }
 },
 "nbformat": 4,
 "nbformat_minor": 2
}
