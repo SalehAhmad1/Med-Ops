{
 "cells": [
  {
   "cell_type": "markdown",
   "metadata": {},
   "source": [
    "# Saleh Ahmad\n",
    "# salehahmad2106@gmail.com"
   ]
  },
  {
   "cell_type": "code",
   "execution_count": 5,
   "metadata": {},
   "outputs": [],
   "source": [
    "import numpy as np\n",
    "import pandas as pd\n",
    "import skimage\n",
    "import cv2\n",
    "import matplotlib.pyplot as plt\n",
    "import os\n",
    "import openslide\n",
    "import shutil"
   ]
  },
  {
   "cell_type": "code",
   "execution_count": 6,
   "metadata": {},
   "outputs": [
    {
     "name": "stdout",
     "output_type": "stream",
     "text": [
      "Deleting previous morphology directory...\n",
      "Image 0 : TCGA-AA-A01F-01Z-00-DX1.A09E4A5B-1DD2-472C-B387-91803FEE514A.svs\n",
      "Augmentation Erosion ...\n",
      "Augmentation Dilation ...\n",
      "Augmentation Opening ...\n",
      "Augmentation Closing ...\n",
      "Image 1 : TCGA-AA-3554-01Z-00-DX1.53ea377e-6671-47bb-a2b6-b136d9686144.svs\n",
      "Augmentation Erosion ...\n",
      "Augmentation Dilation ...\n",
      "Augmentation Opening ...\n",
      "Augmentation Closing ...\n",
      "Image 2 : TCGA-A6-A5ZU-01Z-00-DX2.221EC8DE-4029-4ED2-8D84-95647BD39E03.svs\n",
      "Augmentation Erosion ...\n",
      "Augmentation Dilation ...\n",
      "Augmentation Opening ...\n",
      "Augmentation Closing ...\n",
      "Image 3 : TCGA-AZ-5403-01Z-00-DX1.1c557fea-6627-48e9-abb9-79da22c40cef.svs\n",
      "Augmentation Erosion ...\n",
      "Augmentation Dilation ...\n",
      "Augmentation Opening ...\n",
      "Augmentation Closing ...\n"
     ]
    }
   ],
   "source": [
    "class Image_Morphology:\n",
    "    '''\n",
    "    Class \n",
    "    '''\n",
    "    def __init__(self,data_path):\n",
    "        '''\n",
    "        Constructor\n",
    "\n",
    "        Parameters\n",
    "        ----------\n",
    "        data_path : string\n",
    "            Path to the directory containing the images to be augmented.\n",
    "        \n",
    "        Returns\n",
    "        -------\n",
    "        None.\n",
    "        '''\n",
    "        self.images_path = data_path\n",
    "        self.morphology_path = '../Data/Morphology Operation/'\n",
    "        self.images_Names = os.listdir(data_path)\n",
    "        self.__Clear_Morphology_dir() #Clear the morphology directory\n",
    "        self.images = self.__Generate_Morphology() #Generate morphology processed images\n",
    "\n",
    "    def __Clear_Morphology_dir(self):\n",
    "        '''\n",
    "        Clear the morphology directory\n",
    "        '''\n",
    "        print('Deleting previous morphology directory...')\n",
    "        shutil.rmtree(self.morphology_path, ignore_errors=True)\n",
    "        os.makedirs(self.morphology_path,exist_ok=True)\n",
    "\n",
    "    def __Generate_Morphology(self):\n",
    "        '''\n",
    "        Function to perform morphology\n",
    "        '''\n",
    "        for idxImg, img in enumerate(self.images_Names): #Iterate over images\n",
    "            print('Image',idxImg,':',img)\n",
    "            slide = openslide.OpenSlide(os.path.join(self.images_path,img))\n",
    "            data = slide.read_region((0, 0), slide.level_count-1, slide.level_dimensions[slide.level_count-1])\n",
    "            data = np.array(data)\n",
    "\n",
    "            os.makedirs(self.morphology_path+'/'+img[:-4],exist_ok=True)\n",
    "            for operation in range(4): #Iterate over augmentation types\n",
    "                Operations = ['Erosion','Dilation','Opening','Closing']\n",
    "                print('Augmentation',Operations[operation],'...')\n",
    "                args = [False,False,False,False]\n",
    "                args[operation] = True\n",
    "\n",
    "                ProcessedImage = self.__MorphologyOperation(data,*args)\n",
    "\n",
    "                FileName = img[:-4]+'_'+Operations[operation]+'.png'\n",
    "                plt.imsave(self.morphology_path+img[:-4]+'/'+FileName,ProcessedImage)\n",
    "\n",
    "    def __MorphologyOperation(self,img,erosion,dilation,opening,closing):\n",
    "        '''\n",
    "        Function to perform morphology operation. THe kernel is a 5x5 matrix of ones\n",
    "        '''\n",
    "        if erosion:\n",
    "            kernel = np.ones((5,5),np.uint8)\n",
    "            img = cv2.erode(img,kernel,iterations = 1) #Erosion\n",
    "        elif dilation:\n",
    "            kernel = np.ones((5,5),np.uint8)\n",
    "            img = cv2.dilate(img,kernel,iterations = 1) #Dilation\n",
    "        elif opening:\n",
    "            kernel = np.ones((5,5),np.uint8)\n",
    "            img = cv2.morphologyEx(img, cv2.MORPH_OPEN, kernel) #Opening\n",
    "        elif closing:\n",
    "            kernel = np.ones((5,5),np.uint8)\n",
    "            img = cv2.morphologyEx(img, cv2.MORPH_CLOSE, kernel) #Closing\n",
    "        return img\n",
    "\n",
    "    def Show_Patches(self,original,notOriginal):\n",
    "        '''\n",
    "        Function to show the original and notOriginal patches\n",
    "        '''\n",
    "        fig, axes = plt.subplots(1, 2, figsize=(10, 10))\n",
    "        axes[0].imshow(original)\n",
    "        axes[1].imshow(notOriginal)\n",
    "        plt.axis('off')\n",
    "        plt.show()\n",
    "\n",
    "\n",
    "obj = Image_Morphology('../Data/Original/')"
   ]
  }
 ],
 "metadata": {
  "kernelspec": {
   "display_name": "Python 3.8.8 ('base')",
   "language": "python",
   "name": "python3"
  },
  "language_info": {
   "codemirror_mode": {
    "name": "ipython",
    "version": 3
   },
   "file_extension": ".py",
   "mimetype": "text/x-python",
   "name": "python",
   "nbconvert_exporter": "python",
   "pygments_lexer": "ipython3",
   "version": "3.8.8"
  },
  "orig_nbformat": 4,
  "vscode": {
   "interpreter": {
    "hash": "90857eea415e892742aa58aac1803481ac02e4a0a6170a8a09c25267b7e414aa"
   }
  }
 },
 "nbformat": 4,
 "nbformat_minor": 2
}
